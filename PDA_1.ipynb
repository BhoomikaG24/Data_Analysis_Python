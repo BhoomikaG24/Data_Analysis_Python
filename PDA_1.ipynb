{
 "cells": [
  {
   "cell_type": "code",
   "execution_count": 2,
   "id": "9f4e9e73-f43a-4fc1-b8ad-c73e88d20905",
   "metadata": {},
   "outputs": [
    {
     "name": "stdout",
     "output_type": "stream",
     "text": [
      "25\n"
     ]
    }
   ],
   "source": [
    "num1=5\n",
    "num2=20\n",
    "sum=num1+num2\n",
    "print(sum)"
   ]
  },
  {
   "cell_type": "raw",
   "id": "0256534f-7e60-4e32-ab28-58c0fc41c34a",
   "metadata": {},
   "source": []
  },
  {
   "cell_type": "code",
   "execution_count": 3,
   "id": "9adb5151-1d73-44bb-84b3-af3390900084",
   "metadata": {},
   "outputs": [
    {
     "name": "stdout",
     "output_type": "stream",
     "text": [
      "<class 'int'>\n"
     ]
    }
   ],
   "source": [
    "print(type(num1))"
   ]
  },
  {
   "cell_type": "code",
   "execution_count": 4,
   "id": "1b9ffa30-32fc-472d-b7fa-a50271ea3550",
   "metadata": {},
   "outputs": [
    {
     "name": "stdout",
     "output_type": "stream",
     "text": [
      "<class 'str'>\n"
     ]
    }
   ],
   "source": [
    "num=\"90\"\n",
    "print(type(num))"
   ]
  },
  {
   "cell_type": "code",
   "execution_count": 6,
   "id": "028245e9-6b56-4b9f-befa-fd394f474ca8",
   "metadata": {},
   "outputs": [
    {
     "name": "stdout",
     "output_type": "stream",
     "text": [
      "True\n"
     ]
    }
   ],
   "source": [
    "list1=[20,45,61,52]\n",
    "print(20 in list1)"
   ]
  },
  {
   "cell_type": "code",
   "execution_count": 12,
   "id": "6f5c74db-df39-4ab6-a7af-ffa0908bdfb3",
   "metadata": {},
   "outputs": [],
   "source": [
    "def taxcla(s):\n",
    "    if(s<=0):\n",
    "        print(\"invalid\")\n",
    "    elif(s>0 and s<=10000):\n",
    "        tax =0.05*s\n",
    "        return tax\n",
    "    elif(s>10000 and s<=50000):\n",
    "        return 0.1*s\n",
    "    elif(s>50000 and s<=200000):\n",
    "        return 0.15*s\n",
    "    elif(s>200000):\n",
    "        return 0.20*s\n",
    "    "
   ]
  },
  {
   "cell_type": "code",
   "execution_count": 4,
   "id": "fa6e29d5-6a56-4aad-8722-03e0799df98f",
   "metadata": {},
   "outputs": [
    {
     "data": {
      "text/plain": [
       "500.0"
      ]
     },
     "execution_count": 4,
     "metadata": {},
     "output_type": "execute_result"
    }
   ],
   "source": [
    "taxcla(10000)"
   ]
  },
  {
   "cell_type": "code",
   "execution_count": 13,
   "id": "909c6908-96f4-47ed-b536-56c44502d6f4",
   "metadata": {},
   "outputs": [
    {
     "data": {
      "text/plain": [
       "60000.0"
      ]
     },
     "execution_count": 13,
     "metadata": {},
     "output_type": "execute_result"
    }
   ],
   "source": [
    "taxcla(300000)"
   ]
  },
  {
   "cell_type": "code",
   "execution_count": 14,
   "id": "bba0d23a-82fe-4880-a23a-9b1190dc136b",
   "metadata": {},
   "outputs": [
    {
     "data": {
      "text/plain": [
       "13500.0"
      ]
     },
     "execution_count": 14,
     "metadata": {},
     "output_type": "execute_result"
    }
   ],
   "source": [
    "taxcla(90000)"
   ]
  },
  {
   "cell_type": "markdown",
   "id": "3db15f6e-5e8d-467a-8173-67c3321c59fb",
   "metadata": {},
   "source": [
    "# Loops"
   ]
  },
  {
   "cell_type": "markdown",
   "id": "b128ae6f-31d4-4724-bab0-1db36b906177",
   "metadata": {},
   "source": [
    "w=[67,45,23,50]\n",
    "h=[160,127,140,187]\n",
    "output:bmw=w/h^2"
   ]
  },
  {
   "cell_type": "code",
   "execution_count": 23,
   "id": "5ffd2cf7-af89-4b9f-a5cb-7c5634c40121",
   "metadata": {},
   "outputs": [
    {
     "name": "stdout",
     "output_type": "stream",
     "text": [
      "26.171874999999996\n",
      "27.900055800111602\n",
      "11.734693877551022\n",
      "14.298378563870855\n"
     ]
    }
   ],
   "source": [
    "w=[67,45,23,50]      #direct value\n",
    "h=[1.60,1.27,1.40,1.87]\n",
    "for i,j in zip(w,h):\n",
    "        bmi=(i/(j*j))\n",
    "        print(bmi)"
   ]
  },
  {
   "cell_type": "code",
   "execution_count": 25,
   "id": "1b99315c-cddd-4a59-9336-17dcdf127cd9",
   "metadata": {},
   "outputs": [
    {
     "name": "stdout",
     "output_type": "stream",
     "text": [
      "26.171874999999996\n",
      "27.900055800111602\n",
      "11.734693877551022\n",
      "14.298378563870855\n"
     ]
    }
   ],
   "source": [
    "for i in range(len(w)):   #using index value -->0,1,2,3\n",
    "    print(w[i]/(h[i]*h[i]))"
   ]
  },
  {
   "cell_type": "markdown",
   "id": "297b75fc-7b87-4751-b34f-152d0673668f",
   "metadata": {},
   "source": [
    "# Numpy"
   ]
  },
  {
   "cell_type": "code",
   "execution_count": 26,
   "id": "89f3e2f7-5b3e-4e00-bfbd-ef266e2b60d2",
   "metadata": {},
   "outputs": [
    {
     "name": "stdout",
     "output_type": "stream",
     "text": [
      "[9, 56, 12, 34, 78, 45, 55, 67]\n"
     ]
    }
   ],
   "source": [
    "list1=[9,56,12,34]\n",
    "list2=[78,45,55,67]\n",
    "print(list1+list2)"
   ]
  },
  {
   "cell_type": "code",
   "execution_count": 28,
   "id": "5f906e81-1191-4ff9-a1ec-f306f6377fe0",
   "metadata": {},
   "outputs": [
    {
     "name": "stdout",
     "output_type": "stream",
     "text": [
      "[168 101  67 101]\n"
     ]
    }
   ],
   "source": [
    "import numpy as np\n",
    "arr1=np.array([90,56,12,34])\n",
    "arr2=np.array([78,45,55,67])\n",
    "print(arr1+arr2)"
   ]
  },
  {
   "cell_type": "code",
   "execution_count": 30,
   "id": "c5bf51a7-2eb2-468c-bdfa-20e409a4d170",
   "metadata": {},
   "outputs": [
    {
     "name": "stdout",
     "output_type": "stream",
     "text": [
      "[[0. 0. 0.]\n",
      " [0. 0. 0.]]\n"
     ]
    }
   ],
   "source": [
    "arr1=np.zeros((2,3))\n",
    "print(arr1)"
   ]
  },
  {
   "cell_type": "code",
   "execution_count": 32,
   "id": "bb22536d-1430-4710-bb26-318665131586",
   "metadata": {},
   "outputs": [
    {
     "name": "stdout",
     "output_type": "stream",
     "text": [
      "[[1. 1. 1.]\n",
      " [1. 1. 1.]]\n"
     ]
    }
   ],
   "source": [
    "arr2=np.ones((2,3))\n",
    "print(arr2)"
   ]
  },
  {
   "cell_type": "code",
   "execution_count": 33,
   "id": "cad4c006-2e46-4f99-b29a-5e1cb889c99e",
   "metadata": {},
   "outputs": [
    {
     "name": "stdout",
     "output_type": "stream",
     "text": [
      "[[1. 0. 0.]\n",
      " [0. 1. 0.]\n",
      " [0. 0. 1.]]\n"
     ]
    }
   ],
   "source": [
    "arr3=np.eye((3))\n",
    "print(arr3)"
   ]
  },
  {
   "cell_type": "code",
   "execution_count": 37,
   "id": "6ab06a8b-e22d-497d-8c8e-ab3e9ece5f71",
   "metadata": {},
   "outputs": [
    {
     "name": "stdout",
     "output_type": "stream",
     "text": [
      "[[3 4 5]\n",
      " [9 5 0]]\n",
      "2\n",
      "(2, 3)\n"
     ]
    }
   ],
   "source": [
    "arr4=np.array([[3,4,5],[9,5,0]])\n",
    "print(arr4)\n",
    "print(np.ndim(arr4))\n",
    "print(np.shape(arr4))"
   ]
  },
  {
   "cell_type": "code",
   "execution_count": 46,
   "id": "3152d872-3de1-4db3-b64f-d92dcb41a5b9",
   "metadata": {},
   "outputs": [],
   "source": [
    "arr5=np.array([6,7,8,9,9,4,2,1])"
   ]
  },
  {
   "cell_type": "code",
   "execution_count": 47,
   "id": "325a051a-c82d-423f-b815-5d70b66f9ee9",
   "metadata": {},
   "outputs": [],
   "source": [
    "arr5=arr5.reshape(2,4)   #reshape array does not happen to verginal array change occur in the saparate variable"
   ]
  },
  {
   "cell_type": "code",
   "execution_count": 48,
   "id": "62a23188-85a7-4f02-b9ca-e6e2e5b97523",
   "metadata": {},
   "outputs": [
    {
     "data": {
      "text/plain": [
       "array([[6, 7, 8, 9],\n",
       "       [9, 4, 2, 1]])"
      ]
     },
     "execution_count": 48,
     "metadata": {},
     "output_type": "execute_result"
    }
   ],
   "source": [
    "arr5"
   ]
  },
  {
   "cell_type": "code",
   "execution_count": 49,
   "id": "8a99b45c-83d9-480c-82f6-f72278ff9514",
   "metadata": {},
   "outputs": [],
   "source": [
    "arr6=np.array([6,7,8,9,9,4,2,1])"
   ]
  },
  {
   "cell_type": "code",
   "execution_count": 50,
   "id": "ec9bfad2-7578-4f85-bb5c-3f2f0dcbb57e",
   "metadata": {},
   "outputs": [],
   "source": [
    "arr6.resize(4,2)   #resize it does change the verinal array"
   ]
  },
  {
   "cell_type": "code",
   "execution_count": 51,
   "id": "b634c411-3f23-4945-8906-5b740eb50089",
   "metadata": {},
   "outputs": [
    {
     "data": {
      "text/plain": [
       "array([[6, 7],\n",
       "       [8, 9],\n",
       "       [9, 4],\n",
       "       [2, 1]])"
      ]
     },
     "execution_count": 51,
     "metadata": {},
     "output_type": "execute_result"
    }
   ],
   "source": [
    "arr6"
   ]
  },
  {
   "cell_type": "code",
   "execution_count": 58,
   "id": "d7dc9783-2c3c-49c9-bdcd-0db631f65066",
   "metadata": {},
   "outputs": [
    {
     "name": "stdout",
     "output_type": "stream",
     "text": [
      "[[10 11 12 13 14]\n",
      " [15 16 17 18 19]\n",
      " [20 21 22 23 24]\n",
      " [25 26 27 28 29]\n",
      " [30 31 32 33 34]\n",
      " [35 36 37 38 39]\n",
      " [40 41 42 43 44]\n",
      " [45 46 47 48 49]]\n",
      "(8, 5)\n"
     ]
    }
   ],
   "source": [
    "arr6=np.arange(10,50).reshape(8,5)\n",
    "print(arr6)\n",
    "print(np.shape(arr6))"
   ]
  },
  {
   "cell_type": "code",
   "execution_count": 55,
   "id": "791bba46-b5e1-42db-bad0-28776967341c",
   "metadata": {},
   "outputs": [
    {
     "name": "stdout",
     "output_type": "stream",
     "text": [
      "[   8   16   24   32   40   48   56   64   72   80   88   96  104  112\n",
      "  120  128  136  144  152  160  168  176  184  192  200  208  216  224\n",
      "  232  240  248  256  264  272  280  288  296  304  312  320  328  336\n",
      "  344  352  360  368  376  384  392  400  408  416  424  432  440  448\n",
      "  456  464  472  480  488  496  504  512  520  528  536  544  552  560\n",
      "  568  576  584  592  600  608  616  624  632  640  648  656  664  672\n",
      "  680  688  696  704  712  720  728  736  744  752  760  768  776  784\n",
      "  792  800  808  816  824  832  840  848  856  864  872  880  888  896\n",
      "  904  912  920  928  936  944  952  960  968  976  984  992 1000]\n"
     ]
    }
   ],
   "source": [
    "arr7=np.arange(8,1001,8)   #start,stop,step multiple of 8 upto 1000\n",
    "print(arr7)"
   ]
  },
  {
   "cell_type": "code",
   "execution_count": 56,
   "id": "585dcfaf-f1a5-44d9-aa65-54e4de51b5c7",
   "metadata": {},
   "outputs": [
    {
     "name": "stdout",
     "output_type": "stream",
     "text": [
      "<class 'numpy.ndarray'>\n"
     ]
    }
   ],
   "source": [
    "print(type(arr7))"
   ]
  },
  {
   "cell_type": "code",
   "execution_count": 59,
   "id": "a5719c57-f0ae-4b07-b545-6ddab3d252aa",
   "metadata": {},
   "outputs": [
    {
     "name": "stdout",
     "output_type": "stream",
     "text": [
      "[  7  14  21  28  35  42  49  56  63  70  77  84  91  98 105 112 119 126\n",
      " 133 140 147 154 161 168 175 182 189 196 203 210 217 224 231 238 245 252\n",
      " 259 266 273 280 287 294 301 308 315 322 329 336 343 350 357 364 371 378\n",
      " 385 392 399 406 413 420 427 434 441 448 455 462 469 476 483 490 497 504\n",
      " 511 518 525 532 539 546 553 560 567 574 581 588 595 602 609 616 623 630\n",
      " 637 644 651 658 665 672 679 686 693 700]\n"
     ]
    }
   ],
   "source": [
    "arr8=np.arange(7,701,7)     #multiple of 7\n",
    "print(arr8)"
   ]
  },
  {
   "cell_type": "code",
   "execution_count": 66,
   "id": "a7dc1772-7733-465a-a429-98c8e0d6afe6",
   "metadata": {},
   "outputs": [
    {
     "name": "stdout",
     "output_type": "stream",
     "text": [
      "[2.  3.2 4.4 5.6 6.8 8. ]\n"
     ]
    }
   ],
   "source": [
    "import numpy as np\n",
    "arr9=np.linspace(2,8,6)\n",
    "print(arr9)               # 2, %,% ,%, %,8 #generate 6 evenly spaced numbers from 2 to 8"
   ]
  },
  {
   "cell_type": "markdown",
   "id": "c1d05f1f-7b7c-4d02-8e6d-ec3bdf0e3b29",
   "metadata": {},
   "source": [
    "# matrix"
   ]
  },
  {
   "cell_type": "code",
   "execution_count": 70,
   "id": "2fd63d05-aa23-4d52-83e2-0e06e9131cb1",
   "metadata": {},
   "outputs": [
    {
     "name": "stdout",
     "output_type": "stream",
     "text": [
      "marix 1:\n",
      " [[9 4]\n",
      " [6 7]]\n",
      "marix 2:\n",
      " [[1 2]\n",
      " [3 4]]\n"
     ]
    }
   ],
   "source": [
    "mat1=np.array([9,4,6,7]).reshape(2,2)\n",
    "mat2=np.array([1,2,3,4]).reshape(2,2)\n",
    "print(\"marix 1:\\n\",mat1)\n",
    "print(\"marix 2:\\n\",mat2)"
   ]
  },
  {
   "cell_type": "code",
   "execution_count": 68,
   "id": "6d97a72d-96d5-4a18-94d1-d0a4619b75dc",
   "metadata": {},
   "outputs": [
    {
     "name": "stdout",
     "output_type": "stream",
     "text": [
      "[[[1 2 3]\n",
      "  [6 7 8]]\n",
      "\n",
      " [[4 5 2]\n",
      "  [3 6 0]]]\n",
      "(2, 2, 3)\n",
      "3\n"
     ]
    }
   ],
   "source": [
    "arr10=np.array([[[1,2,3],[6,7,8]],[[4,5,2],[3,6,0]]])    # 3D array\n",
    "print(arr10)  \n",
    "print(np.shape(arr10))     #ndim-dimension\n",
    "print(np.ndim(arr10))      # group ,row,column"
   ]
  },
  {
   "cell_type": "code",
   "execution_count": 71,
   "id": "2a007a27-f3f7-4268-bd3d-15c7ac334350",
   "metadata": {},
   "outputs": [
    {
     "name": "stdout",
     "output_type": "stream",
     "text": [
      "[[ 9  8]\n",
      " [18 28]]\n"
     ]
    }
   ],
   "source": [
    "print(mat1*mat2)     #index wise multipliction occurs"
   ]
  },
  {
   "cell_type": "code",
   "execution_count": 72,
   "id": "32e3629a-5e05-4d2b-85f0-36e26787fad9",
   "metadata": {},
   "outputs": [
    {
     "name": "stdout",
     "output_type": "stream",
     "text": [
      "[[21 34]\n",
      " [27 40]]\n"
     ]
    }
   ],
   "source": [
    "print(mat1.dot(mat2))   #matrix multipliction"
   ]
  },
  {
   "cell_type": "code",
   "execution_count": 73,
   "id": "af678e8b-7020-4d30-b8e3-ed5f9e35574d",
   "metadata": {},
   "outputs": [
    {
     "name": "stdout",
     "output_type": "stream",
     "text": [
      "[[21 34]\n",
      " [27 40]]\n"
     ]
    }
   ],
   "source": [
    "print(mat1@mat2);      #matrix multipliction"
   ]
  },
  {
   "cell_type": "code",
   "execution_count": 75,
   "id": "a5e24721-e981-41c1-91e8-d5d9ce970fb3",
   "metadata": {},
   "outputs": [
    {
     "name": "stdout",
     "output_type": "stream",
     "text": [
      "[[ 0.17948718 -0.1025641 ]\n",
      " [-0.15384615  0.23076923]]\n"
     ]
    }
   ],
   "source": [
    "print(np.linalg.inv(mat1))     #inverse matrix "
   ]
  },
  {
   "cell_type": "code",
   "execution_count": 76,
   "id": "263f2d5d-106c-432e-9dec-aecc628dfc10",
   "metadata": {},
   "outputs": [
    {
     "name": "stdout",
     "output_type": "stream",
     "text": [
      "[[-2.   1. ]\n",
      " [ 1.5 -0.5]]\n"
     ]
    }
   ],
   "source": [
    "print(np.linalg.inv(mat2))      # determinante |a|=ad-cb"
   ]
  },
  {
   "cell_type": "markdown",
   "id": "2cec302a-014e-496d-b6ab-8be30acc5b8e",
   "metadata": {},
   "source": [
    "# statistics"
   ]
  },
  {
   "cell_type": "code",
   "execution_count": 77,
   "id": "41268983-f4c5-40a0-97ce-22814d174fcc",
   "metadata": {},
   "outputs": [
    {
     "name": "stdout",
     "output_type": "stream",
     "text": [
      "36.666666666666664\n"
     ]
    }
   ],
   "source": [
    "arr1 = np.array([90,45,34,16,23,12])          #mean=average of totalnumbers\n",
    "print(np.mean(arr1))                          #standerd deviation=sqrt(varince)\n",
    "                                                                   #varince= xi-u/n"
   ]
  },
  {
   "cell_type": "code",
   "execution_count": 78,
   "id": "45a9179a-20d6-4da6-a6e1-c5b93965ecf5",
   "metadata": {},
   "outputs": [
    {
     "name": "stdout",
     "output_type": "stream",
     "text": [
      "26.278423764669668\n"
     ]
    }
   ],
   "source": [
    "print(np.std(arr1))        # standerd devaition=sqrt(varince)"
   ]
  },
  {
   "cell_type": "code",
   "execution_count": 79,
   "id": "1ce48294-2c9e-4f4b-95cb-405cad00e2e8",
   "metadata": {},
   "outputs": [
    {
     "name": "stdout",
     "output_type": "stream",
     "text": [
      "690.5555555555557\n"
     ]
    }
   ],
   "source": [
    "print(np.var(arr1))        #varince =xi-u/n"
   ]
  },
  {
   "cell_type": "code",
   "execution_count": 80,
   "id": "de8ee2a3-7e9d-4d09-bbe5-c1404e79c0d2",
   "metadata": {},
   "outputs": [
    {
     "name": "stdout",
     "output_type": "stream",
     "text": [
      "3.141592653589793\n"
     ]
    }
   ],
   "source": [
    "print(np.pi)"
   ]
  },
  {
   "cell_type": "markdown",
   "id": "a97206d1-3e8b-48d1-bf39-cf04395f535a",
   "metadata": {},
   "source": [
    "# trignometry"
   ]
  },
  {
   "cell_type": "code",
   "execution_count": 83,
   "id": "3a4f15ea-5dca-4277-9912-102d124767e3",
   "metadata": {},
   "outputs": [
    {
     "name": "stdout",
     "output_type": "stream",
     "text": [
      "0.8939966636005579\n",
      "-0.9880316240928618\n",
      "0.8509035245341184\n"
     ]
    }
   ],
   "source": [
    "rad=[90,30,45]\n",
    "for i in rad:\n",
    "    print(np.sin(i))"
   ]
  },
  {
   "cell_type": "code",
   "execution_count": 2,
   "id": "62bc485e-7b41-4dba-ae74-76b0f149f139",
   "metadata": {},
   "outputs": [
    {
     "name": "stdout",
     "output_type": "stream",
     "text": [
      "0.8414709848078965\n",
      "0.8414709848078965\n",
      "0.8414709848078965\n"
     ]
    }
   ],
   "source": [
    "import numpy as np\n",
    "deg=[np.pi/4,np.pi/2,np.pi/3]\n",
    "for i in deg:\n",
    "     print(np.sin(1))"
   ]
  },
  {
   "cell_type": "code",
   "execution_count": 4,
   "id": "43c7a271-5fb1-4aa5-aff6-03318875f0d3",
   "metadata": {},
   "outputs": [
    {
     "name": "stdout",
     "output_type": "stream",
     "text": [
      "10.0\n"
     ]
    }
   ],
   "source": [
    "print(np.hypot(6,8))"
   ]
  },
  {
   "cell_type": "markdown",
   "id": "4057bc88-91c8-4d4d-9cd7-d859f18e419a",
   "metadata": {},
   "source": [
    "# arthamatic operation"
   ]
  },
  {
   "cell_type": "code",
   "execution_count": 6,
   "id": "de6bb960-a158-4a71-a872-4d78ee0a6cf4",
   "metadata": {},
   "outputs": [
    {
     "name": "stdout",
     "output_type": "stream",
     "text": [
      "33\n"
     ]
    }
   ],
   "source": [
    "a=np.array([8,9,1])\n",
    "b=np.array([2,5,8])\n",
    "print(np.sum((a,b)))"
   ]
  },
  {
   "cell_type": "code",
   "execution_count": 7,
   "id": "8916f38a-5785-40eb-bd86-1a2e0f65fee2",
   "metadata": {},
   "outputs": [
    {
     "name": "stdout",
     "output_type": "stream",
     "text": [
      "[ 8 17 18]\n"
     ]
    }
   ],
   "source": [
    "print(np.cumsum(a))"
   ]
  },
  {
   "cell_type": "code",
   "execution_count": null,
   "id": "c6d1857a-2a26-4bef-8a2a-227216f1c5a0",
   "metadata": {},
   "outputs": [],
   "source": [
    "#axix=0 is column wise addition\n",
    "\n",
    "#axis=1 is row wise addition \n",
    "#this are the cunulative addition\n",
    "#axis =2 is add the group wise addition\n",
    "#product of means muliply the all numbers\n",
    "#cumprod means multiply the one by one until last\n",
    "#cumprod means multiply the row wise we give axis=0\n",
    "#smilarly axis=1\n"
   ]
  },
  {
   "cell_type": "code",
   "execution_count": 8,
   "id": "a30e3778-db3e-4529-ada6-e7bad9e3a03b",
   "metadata": {},
   "outputs": [
    {
     "name": "stdout",
     "output_type": "stream",
     "text": [
      "[[ 1  2  3]\n",
      " [ 7  9  6]\n",
      " [16 10 12]]\n"
     ]
    }
   ],
   "source": [
    "c=np.array([[1,2,3],[6,7,3],[9,1,6]])\n",
    "print(np.cumsum(c,axis=0))"
   ]
  },
  {
   "cell_type": "code",
   "execution_count": 9,
   "id": "5974c84d-0079-479e-9a69-4d92f307f7a7",
   "metadata": {},
   "outputs": [
    {
     "name": "stdout",
     "output_type": "stream",
     "text": [
      "[[ 1  3  6]\n",
      " [ 6 13 16]\n",
      " [ 9 10 16]]\n"
     ]
    }
   ],
   "source": [
    "print(np.cumsum(c,axis=1)) "
   ]
  },
  {
   "cell_type": "code",
   "execution_count": 10,
   "id": "340bceb9-d897-41b8-bca0-2db0ca3f9efc",
   "metadata": {},
   "outputs": [
    {
     "name": "stdout",
     "output_type": "stream",
     "text": [
      "5760\n"
     ]
    }
   ],
   "source": [
    "print(np.prod((a,b)))  #multiply the all the numbers"
   ]
  },
  {
   "cell_type": "code",
   "execution_count": 11,
   "id": "ee4084cc-83af-4df7-a3a8-ba587f55343c",
   "metadata": {},
   "outputs": [
    {
     "name": "stdout",
     "output_type": "stream",
     "text": [
      "[   8   72   72  144  720 5760]\n"
     ]
    }
   ],
   "source": [
    "print(np.cumprod((a,b)))"
   ]
  },
  {
   "cell_type": "code",
   "execution_count": 13,
   "id": "4f55d7e2-17a1-49f6-a727-e7cfbe49a0d9",
   "metadata": {},
   "outputs": [
    {
     "name": "stdout",
     "output_type": "stream",
     "text": [
      "[    1     2     6    36   252   756  6804  6804 40824]\n"
     ]
    }
   ],
   "source": [
    "print(np.cumprod(c))   #multiply the one by one then it will return in single line"
   ]
  },
  {
   "cell_type": "code",
   "execution_count": 14,
   "id": "8c072111-922c-4a1c-9969-b7c15b21bcb8",
   "metadata": {},
   "outputs": [
    {
     "name": "stdout",
     "output_type": "stream",
     "text": [
      "[[ 1  2  3]\n",
      " [ 6 14  9]\n",
      " [54 14 54]]\n"
     ]
    }
   ],
   "source": [
    "print(np.cumprod(c,axis=0))  #column"
   ]
  },
  {
   "cell_type": "code",
   "execution_count": 15,
   "id": "90af37d5-a061-47a2-be22-af6299e9dc54",
   "metadata": {},
   "outputs": [
    {
     "name": "stdout",
     "output_type": "stream",
     "text": [
      "[[  1   2   6]\n",
      " [  6  42 126]\n",
      " [  9   9  54]]\n"
     ]
    }
   ],
   "source": [
    "print(np.cumprod(c,axis=1))  #row"
   ]
  },
  {
   "cell_type": "code",
   "execution_count": 20,
   "id": "cb2abfbe-dd70-4233-a560-52fed9f34e6a",
   "metadata": {},
   "outputs": [
    {
     "name": "stdout",
     "output_type": "stream",
     "text": [
      "[0 1 7 2]\n"
     ]
    }
   ],
   "source": [
    "s1=np.array([90,23,40,12])  #diviser\n",
    "s2=np.array([10,2,11,5])    #diveder\n",
    "print(np.mod(s1,s2))"
   ]
  },
  {
   "cell_type": "code",
   "execution_count": 21,
   "id": "78fe63e4-5b77-42c0-81ae-33c55a8dad9c",
   "metadata": {},
   "outputs": [
    {
     "name": "stdout",
     "output_type": "stream",
     "text": [
      "(array([ 9, 11,  3,  2]), array([0, 1, 7, 2]))\n"
     ]
    }
   ],
   "source": [
    "print(np.divmod(s1,s2))   # "
   ]
  },
  {
   "cell_type": "code",
   "execution_count": 22,
   "id": "4e4f8998-3c0a-47c9-a27e-ed49b51846d8",
   "metadata": {},
   "outputs": [
    {
     "name": "stdout",
     "output_type": "stream",
     "text": [
      "200\n"
     ]
    }
   ],
   "source": [
    "A=np.array([10,27,200,111,109])\n",
    "print(max(A))"
   ]
  },
  {
   "cell_type": "code",
   "execution_count": 27,
   "id": "ce5433ac-cd1f-4689-a031-a06088fd3f4c",
   "metadata": {},
   "outputs": [
    {
     "name": "stdout",
     "output_type": "stream",
     "text": [
      "like\n"
     ]
    }
   ],
   "source": [
    "h=np.array([10,27,200,111,109,\"like\"])   #because of the print asci values\n",
    "print(max(h))"
   ]
  },
  {
   "cell_type": "code",
   "execution_count": 28,
   "id": "233ae4c7-b1e0-4534-ba5a-08d993936eb0",
   "metadata": {},
   "outputs": [
    {
     "name": "stdout",
     "output_type": "stream",
     "text": [
      "10\n"
     ]
    }
   ],
   "source": [
    "print(min(A))"
   ]
  },
  {
   "cell_type": "markdown",
   "id": "3d5c7a02-06d2-4b42-b609-37d425fb4733",
   "metadata": {},
   "source": [
    "# sorting"
   ]
  },
  {
   "cell_type": "code",
   "execution_count": null,
   "id": "b29d10b4-2d00-4c24-a915-a32199d96779",
   "metadata": {},
   "outputs": [],
   "source": [
    "#sort it will modify the veriginal array\n",
    "#sorted array it will not affert on original array ,when the varible to the saparate then it will change\n"
   ]
  },
  {
   "cell_type": "code",
   "execution_count": 24,
   "id": "d55cfcd9-d219-4508-9913-fe923d31b31c",
   "metadata": {},
   "outputs": [
    {
     "name": "stdout",
     "output_type": "stream",
     "text": [
      "[ 1 12 45 89 90 98]\n"
     ]
    }
   ],
   "source": [
    "B=np.array([90,12,45,1,89,98])\n",
    "B.sort()\n",
    "print(B)"
   ]
  },
  {
   "cell_type": "code",
   "execution_count": 29,
   "id": "8bcce6b1-3bba-4c0e-a26a-06ec83ec9612",
   "metadata": {},
   "outputs": [
    {
     "name": "stdout",
     "output_type": "stream",
     "text": [
      "[1, 12, 45, 89, 90, 98]\n",
      "[90 12 45  1 89 98]\n"
     ]
    }
   ],
   "source": [
    "c=np.array([90,12,45,1,89,98])\n",
    "D=sorted(c)\n",
    "print(D)\n",
    "print(c)\n"
   ]
  },
  {
   "cell_type": "code",
   "execution_count": 26,
   "id": "f7840179-bd08-4fe4-a119-c0850d30c849",
   "metadata": {},
   "outputs": [
    {
     "name": "stdout",
     "output_type": "stream",
     "text": [
      "[90 12 45  1 89 98]\n"
     ]
    }
   ],
   "source": [
    "print(c)"
   ]
  },
  {
   "cell_type": "markdown",
   "id": "d2b4d26c-be70-42c3-9f73-f068757caadf",
   "metadata": {},
   "source": [
    "# rounding"
   ]
  },
  {
   "cell_type": "code",
   "execution_count": 30,
   "id": "7b35f9fd-5026-47fd-98b3-3cac85aa6267",
   "metadata": {},
   "outputs": [
    {
     "name": "stdout",
     "output_type": "stream",
     "text": [
      "[10. -7.]\n"
     ]
    }
   ],
   "source": [
    "s2=np.array([9.1,-7.8])   #ceil is taken the round fig by bigger value\n",
    "print(np.ceil(s2))"
   ]
  },
  {
   "cell_type": "code",
   "execution_count": 31,
   "id": "d5c94d88-c777-422d-8c08-5afad646824b",
   "metadata": {},
   "outputs": [
    {
     "name": "stdout",
     "output_type": "stream",
     "text": [
      "[ 9. -8.]\n"
     ]
    }
   ],
   "source": [
    "print(np.floor(s2))      #floor is taken the smaller the value dependence on the value given"
   ]
  },
  {
   "cell_type": "markdown",
   "id": "0f792c26-ed5d-4d89-aa5e-2c7e7f256ec8",
   "metadata": {},
   "source": [
    "# Random module"
   ]
  },
  {
   "cell_type": "code",
   "execution_count": null,
   "id": "41ca61c1-7535-4a6a-850c-486cd6686a94",
   "metadata": {},
   "outputs": [],
   "source": [
    "random number will generate b/w the 1 to 0\n",
    "randint wil generate the random numbers  when the we will given the limite b/w the the 0 to  limit \n"
   ]
  },
  {
   "cell_type": "code",
   "execution_count": 32,
   "id": "f6b95d7d-9c8c-4974-a442-72b69740cd2f",
   "metadata": {},
   "outputs": [],
   "source": [
    "import numpy.random as rd\n"
   ]
  },
  {
   "cell_type": "code",
   "execution_count": 33,
   "id": "8a52ad45-6ebe-46ff-9bf2-17efa18c7fd7",
   "metadata": {},
   "outputs": [
    {
     "name": "stdout",
     "output_type": "stream",
     "text": [
      "[0.87346139 0.41591613]\n"
     ]
    }
   ],
   "source": [
    "ran1=rd.rand(2)     # 0 to 1\n",
    "print(ran1)\n"
   ]
  },
  {
   "cell_type": "code",
   "execution_count": 36,
   "id": "21e1a92c-02bc-48a6-af46-b0b8e65ccaf2",
   "metadata": {},
   "outputs": [
    {
     "name": "stdout",
     "output_type": "stream",
     "text": [
      "3\n"
     ]
    }
   ],
   "source": [
    "ran2=rd.randint(5)    # b/w 0 to 5 because limit\n",
    "print(ran2)"
   ]
  },
  {
   "cell_type": "code",
   "execution_count": 38,
   "id": "e67b28b7-bb6d-484d-996e-b95b5edd9b23",
   "metadata": {},
   "outputs": [
    {
     "name": "stdout",
     "output_type": "stream",
     "text": [
      "[3 2 4 2 2 3]\n"
     ]
    }
   ],
   "source": [
    "rad3=rd.randint(5,size=(6))       # limit ,size\n",
    "print(rad3)"
   ]
  },
  {
   "cell_type": "code",
   "execution_count": 40,
   "id": "b8e31891-dc74-4deb-9ead-159ec22737b6",
   "metadata": {},
   "outputs": [
    {
     "name": "stdout",
     "output_type": "stream",
     "text": [
      "[[[0 4 3]\n",
      "  [2 4 2]]\n",
      "\n",
      " [[3 4 4]\n",
      "  [3 0 4]]\n",
      "\n",
      " [[1 3 4]\n",
      "  [4 4 3]]\n",
      "\n",
      " [[0 0 4]\n",
      "  [2 0 2]]\n",
      "\n",
      " [[3 3 3]\n",
      "  [0 2 4]]\n",
      "\n",
      " [[1 4 2]\n",
      "  [4 3 1]]]\n"
     ]
    }
   ],
   "source": [
    "rad4=rd.randint(5,size=(6,2,3))     #limit,size(g,r,c)\n",
    "print(rad4)"
   ]
  },
  {
   "cell_type": "markdown",
   "id": "6a93997c-e607-436d-b0df-a5b9531b3800",
   "metadata": {},
   "source": [
    "# stack"
   ]
  },
  {
   "cell_type": "code",
   "execution_count": 42,
   "id": "f1092e75-6b58-4ce3-93a4-316f0eba60ba",
   "metadata": {},
   "outputs": [],
   "source": [
    "#hstack arranged in side by side\n",
    "#vstack is the virticle array\n",
    "#dstack is the change by the colume determine by the no of groups in the array similarly transpose"
   ]
  },
  {
   "cell_type": "code",
   "execution_count": 45,
   "id": "a263e4a9-ca97-437a-a00e-1030e0ed7425",
   "metadata": {},
   "outputs": [
    {
     "name": "stdout",
     "output_type": "stream",
     "text": [
      "[[ 9  4 23]\n",
      " [ 3  4  6]]\n",
      "\n",
      "\n",
      "[[ 8  1  2]\n",
      " [33 42 51]]\n"
     ]
    }
   ],
   "source": [
    "arr1=np.array([[9,4,23],[3,4,6]])\n",
    "arr2=np.array([[8,1,2],[33,42,51]])\n",
    "print(arr1)\n",
    "print(\"\\n\")\n",
    "print(arr2)\n"
   ]
  },
  {
   "cell_type": "code",
   "execution_count": 47,
   "id": "3b5948c9-ea14-4d9d-9e1d-ed1f29a6fdba",
   "metadata": {},
   "outputs": [
    {
     "name": "stdout",
     "output_type": "stream",
     "text": [
      "[[ 9  4 23  8  1  2]\n",
      " [ 3  4  6 33 42 51]]\n"
     ]
    }
   ],
   "source": [
    "arr3=np.hstack((arr1,arr2))\n",
    "print(arr3)"
   ]
  },
  {
   "cell_type": "code",
   "execution_count": 48,
   "id": "5d44496a-6eb1-4253-92b9-405a7f216fc1",
   "metadata": {},
   "outputs": [
    {
     "name": "stdout",
     "output_type": "stream",
     "text": [
      "[[ 9  4 23]\n",
      " [ 3  4  6]\n",
      " [ 8  1  2]\n",
      " [33 42 51]]\n"
     ]
    }
   ],
   "source": [
    "arr4=np.vstack((arr1,arr2))\n",
    "print(arr4)"
   ]
  },
  {
   "cell_type": "code",
   "execution_count": 50,
   "id": "0d606f61-71a9-4245-baee-0245b331f230",
   "metadata": {},
   "outputs": [
    {
     "name": "stdout",
     "output_type": "stream",
     "text": [
      "[[[ 1  2]\n",
      "  [ 3  4]]\n",
      "\n",
      " [[ 5  6]\n",
      "  [ 7  8]]\n",
      "\n",
      " [[ 9 10]\n",
      "  [11 12]]]\n"
     ]
    }
   ],
   "source": [
    "arr5=np.arange(1,13).reshape(3,2,2)\n",
    "print(arr5)"
   ]
  },
  {
   "cell_type": "code",
   "execution_count": 51,
   "id": "c718703b-07bd-464c-9de2-96f9b235df8a",
   "metadata": {},
   "outputs": [
    {
     "name": "stdout",
     "output_type": "stream",
     "text": [
      "[[[ 1  5  9]\n",
      "  [ 2  6 10]]\n",
      "\n",
      " [[ 3  7 11]\n",
      "  [ 4  8 12]]]\n"
     ]
    }
   ],
   "source": [
    "arr6=np.dstack((arr5))\n",
    "print(arr6)"
   ]
  },
  {
   "cell_type": "code",
   "execution_count": 61,
   "id": "1a70d63c-38b4-409f-9e94-61ce2552f11f",
   "metadata": {},
   "outputs": [
    {
     "name": "stdout",
     "output_type": "stream",
     "text": [
      "9.0\n"
     ]
    }
   ],
   "source": [
    "num1=81\n",
    "num2=99\n",
    "num3=78\n",
    "print(np.sqrt(num1))"
   ]
  },
  {
   "cell_type": "code",
   "execution_count": 59,
   "id": "30d03734-755a-4d4f-b743-d721dff398a3",
   "metadata": {},
   "outputs": [
    {
     "name": "stdout",
     "output_type": "stream",
     "text": [
      "891\n"
     ]
    }
   ],
   "source": [
    "print(np.lcm(num1,num2))"
   ]
  },
  {
   "cell_type": "code",
   "execution_count": 60,
   "id": "71cd893c-41db-4287-9d33-d3c283dff23f",
   "metadata": {},
   "outputs": [
    {
     "name": "stdout",
     "output_type": "stream",
     "text": [
      "9\n"
     ]
    }
   ],
   "source": [
    "print(np.gcd(num1,num2))"
   ]
  },
  {
   "cell_type": "code",
   "execution_count": 62,
   "id": "f4ee16d2-2ed0-41ce-af05-443d4c209da6",
   "metadata": {},
   "outputs": [
    {
     "name": "stdout",
     "output_type": "stream",
     "text": [
      "268335\n"
     ]
    }
   ],
   "source": [
    "AA=[45, 67,89]\n",
    "print(np.lcm.reduce(AA))   #reduce the lcm  it is common to all we apply to all"
   ]
  },
  {
   "cell_type": "code",
   "execution_count": 63,
   "id": "26881db7-3b14-47d3-add4-e7e69412a76b",
   "metadata": {},
   "outputs": [
    {
     "name": "stdout",
     "output_type": "stream",
     "text": [
      "1\n"
     ]
    }
   ],
   "source": [
    "print(np.gcd.reduce(AA))"
   ]
  },
  {
   "cell_type": "code",
   "execution_count": 65,
   "id": "4b1c5354-faba-4f7d-b2fe-458ab4b88845",
   "metadata": {},
   "outputs": [
    {
     "name": "stdout",
     "output_type": "stream",
     "text": [
      "[ 0  5 20 23]\n"
     ]
    }
   ],
   "source": [
    "AB=np.array([0,-5,20,-23])    # it will remove the negative values\n",
    "print(np.absolute(AB))"
   ]
  },
  {
   "cell_type": "markdown",
   "id": "596c3ae8-5d61-4eca-8feb-36d710547656",
   "metadata": {},
   "source": [
    "# logarithums"
   ]
  },
  {
   "cell_type": "code",
   "execution_count": 66,
   "id": "637be6be-c16c-48d5-b62a-e83c509b4ef4",
   "metadata": {},
   "outputs": [
    {
     "name": "stdout",
     "output_type": "stream",
     "text": [
      "3.8066624897703196\n"
     ]
    }
   ],
   "source": [
    "n=45\n",
    "print(np.log(n))    #natural log\n"
   ]
  },
  {
   "cell_type": "code",
   "execution_count": 67,
   "id": "1a26f1b3-f8e7-4ec2-a466-4afff968d830",
   "metadata": {},
   "outputs": [
    {
     "name": "stdout",
     "output_type": "stream",
     "text": [
      "1.6532125137753437\n"
     ]
    }
   ],
   "source": [
    "print(np.log10(n))"
   ]
  },
  {
   "cell_type": "code",
   "execution_count": 68,
   "id": "5e6bd4b0-3288-425b-9168-1b36c7584339",
   "metadata": {},
   "outputs": [
    {
     "name": "stdout",
     "output_type": "stream",
     "text": [
      "5.491853096329675\n"
     ]
    }
   ],
   "source": [
    "print(np.log2(n))"
   ]
  },
  {
   "cell_type": "markdown",
   "id": "4db7dd21-dc6d-40c9-b1e9-b40b2d9b9186",
   "metadata": {},
   "source": [
    "# set function"
   ]
  },
  {
   "cell_type": "code",
   "execution_count": 74,
   "id": "3556c30a-501d-46c2-8518-96695acf6f02",
   "metadata": {},
   "outputs": [
    {
     "name": "stdout",
     "output_type": "stream",
     "text": [
      "[9 5 2 1 3] \n",
      "\n",
      "[4 5 2 1 3]\n"
     ]
    }
   ],
   "source": [
    "s1=np.array([9,5,2,1,3])\n",
    "s2=np.array([4,5,2,1,3])\n",
    "print(s1 ,\"\\n\")\n",
    "print(s2)"
   ]
  },
  {
   "cell_type": "code",
   "execution_count": 75,
   "id": "22ea7ac6-c1ef-475e-8d5b-d9b3fca59888",
   "metadata": {},
   "outputs": [
    {
     "name": "stdout",
     "output_type": "stream",
     "text": [
      "[1 2 3 4 5 9]\n"
     ]
    }
   ],
   "source": [
    "print(np.union1d(s1,s2))"
   ]
  },
  {
   "cell_type": "code",
   "execution_count": 76,
   "id": "17a462c5-7c52-482c-88c2-25a9465780f3",
   "metadata": {},
   "outputs": [
    {
     "name": "stdout",
     "output_type": "stream",
     "text": [
      "[1 2 3 5]\n"
     ]
    }
   ],
   "source": [
    "print(np.intersect1d(s1,s2))"
   ]
  },
  {
   "cell_type": "code",
   "execution_count": 77,
   "id": "c4337093-9a51-4d5f-8240-b72b2ff04b19",
   "metadata": {},
   "outputs": [
    {
     "name": "stdout",
     "output_type": "stream",
     "text": [
      "[9]\n"
     ]
    }
   ],
   "source": [
    "print(np.setdiff1d(s1,s2))    # only take the uniqe elements  s1-s2"
   ]
  },
  {
   "cell_type": "markdown",
   "id": "46109772-26ad-4e5d-a03e-dfbc3b7e07b8",
   "metadata": {},
   "source": [
    "# search"
   ]
  },
  {
   "cell_type": "code",
   "execution_count": 79,
   "id": "bb4edb0b-d9cd-4f76-81bd-81f966caf3f2",
   "metadata": {},
   "outputs": [
    {
     "name": "stdout",
     "output_type": "stream",
     "text": [
      "(array([0, 3], dtype=int64),)\n"
     ]
    }
   ],
   "source": [
    "col1=np.array([44,33,67,12,53])\n",
    "index=np.where(col1%2==0)\n",
    "print(index)"
   ]
  },
  {
   "cell_type": "code",
   "execution_count": 93,
   "id": "c61def8d-1af1-4588-80ab-d6e0e835c7bc",
   "metadata": {},
   "outputs": [
    {
     "name": "stdout",
     "output_type": "stream",
     "text": [
      "(array([0, 4, 5], dtype=int64),)\n"
     ]
    }
   ],
   "source": [
    "col1=np.array([45,33,67,12,60,15])\n",
    "index=np.where((col1%5==0) & (col1%3==0))\n",
    "print(index)"
   ]
  },
  {
   "cell_type": "code",
   "execution_count": null,
   "id": "079ee36b-3cc5-4e03-b21f-87c0255c737d",
   "metadata": {},
   "outputs": [],
   "source": []
  }
 ],
 "metadata": {
  "kernelspec": {
   "display_name": "Python 3 (ipykernel)",
   "language": "python",
   "name": "python3"
  },
  "language_info": {
   "codemirror_mode": {
    "name": "ipython",
    "version": 3
   },
   "file_extension": ".py",
   "mimetype": "text/x-python",
   "name": "python",
   "nbconvert_exporter": "python",
   "pygments_lexer": "ipython3",
   "version": "3.12.7"
  }
 },
 "nbformat": 4,
 "nbformat_minor": 5
}
